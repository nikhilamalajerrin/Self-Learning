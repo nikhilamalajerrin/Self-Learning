{
  "nbformat": 4,
  "nbformat_minor": 0,
  "metadata": {
    "colab": {
      "provenance": []
    },
    "kernelspec": {
      "name": "python3",
      "display_name": "Python 3"
    },
    "language_info": {
      "name": "python"
    }
  },
  "cells": [
    {
      "cell_type": "code",
      "execution_count": 8,
      "metadata": {
        "colab": {
          "base_uri": "https://localhost:8080/"
        },
        "id": "gwQI_DdJzBvY",
        "outputId": "a2281011-4b46-42c4-a2ad-6e294f8e3dd0"
      },
      "outputs": [
        {
          "output_type": "stream",
          "name": "stderr",
          "text": [
            "[nltk_data] Downloading package punkt_tab to /root/nltk_data...\n",
            "[nltk_data]   Package punkt_tab is already up-to-date!\n"
          ]
        },
        {
          "output_type": "execute_result",
          "data": {
            "text/plain": [
              "True"
            ]
          },
          "metadata": {},
          "execution_count": 8
        }
      ],
      "source": [
        "#import nltk (Natural Language Tool Kit)\n",
        "import nltk\n",
        "\n",
        "#import re for regex or search library\n",
        "import re\n",
        "\n",
        "# \"word_tokenize\", which splits the text into tokens\n",
        "from nltk import word_tokenize\n",
        "nltk.download('punkt_tab')\n"
      ]
    },
    {
      "cell_type": "code",
      "source": [
        "sentence = \"I lift up my eyes to the mountain's where does my help come from? My help comes from the Lord, the Maker of heaven and earth.\"\n",
        "\n",
        "#convert sentences into words\n",
        "sentence_tokens = word_tokenize(sentence)\n",
        "print(sentence_tokens)"
      ],
      "metadata": {
        "colab": {
          "base_uri": "https://localhost:8080/"
        },
        "id": "KRUf0l2H12OK",
        "outputId": "7e085fe0-52d7-44cf-ef37-05f7e6b2b141"
      },
      "execution_count": 101,
      "outputs": [
        {
          "output_type": "stream",
          "name": "stdout",
          "text": [
            "['I', 'lift', 'up', 'my', 'eyes', 'to', 'the', 'mountain', \"'s\", 'where', 'does', 'my', 'help', 'come', 'from', '?', 'My', 'help', 'comes', 'from', 'the', 'Lord', ',', 'the', 'Maker', 'of', 'heaven', 'and', 'earth', '.']\n"
          ]
        }
      ]
    },
    {
      "cell_type": "code",
      "source": [
        "reg_pattern = r'\\be\\w*' #\\b starts with e and w* captures the rest\n",
        "re.findall(reg_pattern,sentence)"
      ],
      "metadata": {
        "colab": {
          "base_uri": "https://localhost:8080/"
        },
        "id": "Sx0SDnxP2v7d",
        "outputId": "d5ed251d-e88b-4284-fcaf-7635f62f83c5"
      },
      "execution_count": 35,
      "outputs": [
        {
          "output_type": "execute_result",
          "data": {
            "text/plain": [
              "['eyes', 'earth']"
            ]
          },
          "metadata": {},
          "execution_count": 35
        }
      ]
    },
    {
      "cell_type": "code",
      "source": [
        "test_cases = [\n",
        "    (\"woodchucks\", r\"woodchucks\"),  # Exact match\n",
        "    (\"Mary Ann stopped by Mona’s\", r\"a\"),  # Match character 'a'\n",
        "    (\"You’ve left the burglar behind again!\", r\"!\"),  # Match '!'\n",
        "    (\"Woodchuck\", r\"[wW]oodchuck\"),  # Match 'Woodchuck' or 'woodchuck'\n",
        "    (\"plenty of 7 to 5\", r\"[0-9]\"),  # Match any digit\n",
        "    (\"Oyfn pripetchik\", r\"[^A-Z]\"),  # Not an uppercase letter\n",
        "    (\"I have no exquisite reason for’t\", r\"[^Ss]\"),  # Neither 'S' nor 's'\n",
        "    (\"look up aˆ b now\", r\"aˆb\"),  # Match exactly \"aˆb\"\n",
        "    (\"woodchuck\", r\"woodchucks?\"),  # Match \"woodchuck\" or \"woodchucks\"\n",
        "    (\"colour\", r\"colou?r\"),  # Match \"color\" or \"colour\"\n",
        "    (\"baaa!\", r\"baaa*!\"),  # Match \"baa!\", \"baaa!\", etc.\n",
        "    (\"Chapter 1: Down the Rabbit Hole\", r\"[0-9]+\"),  # Match a number\n",
        "    (\"begun\", r\"beg.n\"),  # Match any character between \"beg\" and \"n\"\n",
        "    (\"The dog.\", r\"^The dog\\.$\"),  # Match \"The dog.\" as a full sentence\n",
        "    (\"99 bottles of beer\", r\"\\b99\\b\"),  # Match \"99\" as a word\n",
        "    (\"the bigger they were, the bigger they will be\", r\"the (.*)er they were, the \\1er they will be\"),  # Capture group match\n",
        "    (\"some people like some people\", r\"(?:some|a few) (people|cats) like some \\1\"),  # Non-capturing group match\n",
        "]\n",
        "\n",
        "# Run all regex patterns\n",
        "for text, pattern in test_cases:\n",
        "    match = re.search(pattern, text)\n",
        "    print(f\"Regex: {pattern}\\nText: \\\"{text}\\\"\\nMatch: {match.group() if match else 'No match'}\\n{'-'*40}\")"
      ],
      "metadata": {
        "colab": {
          "base_uri": "https://localhost:8080/"
        },
        "id": "WGmRzbqr6gPk",
        "outputId": "f6418360-fc69-4ab3-ebf4-6070252174d3"
      },
      "execution_count": 83,
      "outputs": [
        {
          "output_type": "stream",
          "name": "stdout",
          "text": [
            "Regex: woodchucks\n",
            "Text: \"woodchucks\"\n",
            "Match: woodchucks\n",
            "----------------------------------------\n",
            "Regex: a\n",
            "Text: \"Mary Ann stopped by Mona’s\"\n",
            "Match: a\n",
            "----------------------------------------\n",
            "Regex: !\n",
            "Text: \"You’ve left the burglar behind again!\"\n",
            "Match: !\n",
            "----------------------------------------\n",
            "Regex: [wW]oodchuck\n",
            "Text: \"Woodchuck\"\n",
            "Match: Woodchuck\n",
            "----------------------------------------\n",
            "Regex: [0-9]\n",
            "Text: \"plenty of 7 to 5\"\n",
            "Match: 7\n",
            "----------------------------------------\n",
            "Regex: [^A-Z]\n",
            "Text: \"Oyfn pripetchik\"\n",
            "Match: y\n",
            "----------------------------------------\n",
            "Regex: [^Ss]\n",
            "Text: \"I have no exquisite reason for’t\"\n",
            "Match: I\n",
            "----------------------------------------\n",
            "Regex: aˆb\n",
            "Text: \"look up aˆ b now\"\n",
            "Match: No match\n",
            "----------------------------------------\n",
            "Regex: woodchucks?\n",
            "Text: \"woodchuck\"\n",
            "Match: woodchuck\n",
            "----------------------------------------\n",
            "Regex: colou?r\n",
            "Text: \"colour\"\n",
            "Match: colour\n",
            "----------------------------------------\n",
            "Regex: baaa*!\n",
            "Text: \"baaa!\"\n",
            "Match: baaa!\n",
            "----------------------------------------\n",
            "Regex: [0-9]+\n",
            "Text: \"Chapter 1: Down the Rabbit Hole\"\n",
            "Match: 1\n",
            "----------------------------------------\n",
            "Regex: beg.n\n",
            "Text: \"begun\"\n",
            "Match: begun\n",
            "----------------------------------------\n",
            "Regex: ^The dog\\.$\n",
            "Text: \"The dog.\"\n",
            "Match: The dog.\n",
            "----------------------------------------\n",
            "Regex: \\b99\\b\n",
            "Text: \"99 bottles of beer\"\n",
            "Match: 99\n",
            "----------------------------------------\n",
            "Regex: the (.*)er they were, the \\1er they will be\n",
            "Text: \"the bigger they were, the bigger they will be\"\n",
            "Match: the bigger they were, the bigger they will be\n",
            "----------------------------------------\n",
            "Regex: (?:some|a few) (people|cats) like some \\1\n",
            "Text: \"some people like some people\"\n",
            "Match: some people like some people\n",
            "----------------------------------------\n"
          ]
        }
      ]
    },
    {
      "cell_type": "code",
      "source": [
        "#First we need to get all the words from the sentences to get the frequency and rank\n",
        "\n",
        "#1. Tokenize\n",
        "sentence_tokens = word_tokenize(sentence)\n",
        "print(sentence_tokens)\n",
        "\n",
        "print(\"-----------------\")\n",
        "#2. Count the word frequncy\n",
        "\n",
        "from collections import Counter\n",
        "\n",
        "freq = Counter(sentence_tokens)\n",
        "freq\n",
        "\n",
        "\n"
      ],
      "metadata": {
        "colab": {
          "base_uri": "https://localhost:8080/"
        },
        "id": "_xd0VyoZ7Xy7",
        "outputId": "fd5df23e-4d17-43ab-c277-61a91df9a828"
      },
      "execution_count": 105,
      "outputs": [
        {
          "output_type": "stream",
          "name": "stdout",
          "text": [
            "['I', 'lift', 'up', 'my', 'eyes', 'to', 'the', 'mountain', \"'s\", 'where', 'does', 'my', 'help', 'come', 'from', '?', 'My', 'help', 'comes', 'from', 'the', 'Lord', ',', 'the', 'Maker', 'of', 'heaven', 'and', 'earth', '.']\n",
            "-----------------\n"
          ]
        },
        {
          "output_type": "execute_result",
          "data": {
            "text/plain": [
              "Counter({'I': 1,\n",
              "         'lift': 1,\n",
              "         'up': 1,\n",
              "         'my': 2,\n",
              "         'eyes': 1,\n",
              "         'to': 1,\n",
              "         'the': 3,\n",
              "         'mountain': 1,\n",
              "         \"'s\": 1,\n",
              "         'where': 1,\n",
              "         'does': 1,\n",
              "         'help': 2,\n",
              "         'come': 1,\n",
              "         'from': 2,\n",
              "         '?': 1,\n",
              "         'My': 1,\n",
              "         'comes': 1,\n",
              "         'Lord': 1,\n",
              "         ',': 1,\n",
              "         'Maker': 1,\n",
              "         'of': 1,\n",
              "         'heaven': 1,\n",
              "         'and': 1,\n",
              "         'earth': 1,\n",
              "         '.': 1})"
            ]
          },
          "metadata": {},
          "execution_count": 105
        }
      ]
    },
    {
      "cell_type": "code",
      "source": [
        "print(\"-----------------\")\n",
        "#3. Sort them in decreasing order\n",
        "#sorted(iterable, key=key, reverse=reverse)\n",
        "import pandas as pd\n",
        "\n",
        "df = pd.DataFrame(freq.most_common(),columns=[\"Word\",\"Frequency\"])\n",
        "df['rank'] = df['Frequency'].rank(method=\"min\", ascending=False).astype(int)\n",
        "df"
      ],
      "metadata": {
        "colab": {
          "base_uri": "https://localhost:8080/",
          "height": 851
        },
        "id": "wqpFVTGFDUjH",
        "outputId": "98c45b82-5000-45eb-88e0-e7cfd0ecf6ee"
      },
      "execution_count": 106,
      "outputs": [
        {
          "output_type": "stream",
          "name": "stdout",
          "text": [
            "-----------------\n"
          ]
        },
        {
          "output_type": "execute_result",
          "data": {
            "text/plain": [
              "        Word  Frequency  rank\n",
              "0        the          3     1\n",
              "1         my          2     2\n",
              "2       help          2     2\n",
              "3       from          2     2\n",
              "4          I          1     5\n",
              "5       lift          1     5\n",
              "6         up          1     5\n",
              "7       eyes          1     5\n",
              "8         to          1     5\n",
              "9   mountain          1     5\n",
              "10        's          1     5\n",
              "11     where          1     5\n",
              "12      does          1     5\n",
              "13      come          1     5\n",
              "14         ?          1     5\n",
              "15        My          1     5\n",
              "16     comes          1     5\n",
              "17      Lord          1     5\n",
              "18         ,          1     5\n",
              "19     Maker          1     5\n",
              "20        of          1     5\n",
              "21    heaven          1     5\n",
              "22       and          1     5\n",
              "23     earth          1     5\n",
              "24         .          1     5"
            ],
            "text/html": [
              "\n",
              "  <div id=\"df-e0866b9d-28d9-49b9-8166-f2bf347c4be1\" class=\"colab-df-container\">\n",
              "    <div>\n",
              "<style scoped>\n",
              "    .dataframe tbody tr th:only-of-type {\n",
              "        vertical-align: middle;\n",
              "    }\n",
              "\n",
              "    .dataframe tbody tr th {\n",
              "        vertical-align: top;\n",
              "    }\n",
              "\n",
              "    .dataframe thead th {\n",
              "        text-align: right;\n",
              "    }\n",
              "</style>\n",
              "<table border=\"1\" class=\"dataframe\">\n",
              "  <thead>\n",
              "    <tr style=\"text-align: right;\">\n",
              "      <th></th>\n",
              "      <th>Word</th>\n",
              "      <th>Frequency</th>\n",
              "      <th>rank</th>\n",
              "    </tr>\n",
              "  </thead>\n",
              "  <tbody>\n",
              "    <tr>\n",
              "      <th>0</th>\n",
              "      <td>the</td>\n",
              "      <td>3</td>\n",
              "      <td>1</td>\n",
              "    </tr>\n",
              "    <tr>\n",
              "      <th>1</th>\n",
              "      <td>my</td>\n",
              "      <td>2</td>\n",
              "      <td>2</td>\n",
              "    </tr>\n",
              "    <tr>\n",
              "      <th>2</th>\n",
              "      <td>help</td>\n",
              "      <td>2</td>\n",
              "      <td>2</td>\n",
              "    </tr>\n",
              "    <tr>\n",
              "      <th>3</th>\n",
              "      <td>from</td>\n",
              "      <td>2</td>\n",
              "      <td>2</td>\n",
              "    </tr>\n",
              "    <tr>\n",
              "      <th>4</th>\n",
              "      <td>I</td>\n",
              "      <td>1</td>\n",
              "      <td>5</td>\n",
              "    </tr>\n",
              "    <tr>\n",
              "      <th>5</th>\n",
              "      <td>lift</td>\n",
              "      <td>1</td>\n",
              "      <td>5</td>\n",
              "    </tr>\n",
              "    <tr>\n",
              "      <th>6</th>\n",
              "      <td>up</td>\n",
              "      <td>1</td>\n",
              "      <td>5</td>\n",
              "    </tr>\n",
              "    <tr>\n",
              "      <th>7</th>\n",
              "      <td>eyes</td>\n",
              "      <td>1</td>\n",
              "      <td>5</td>\n",
              "    </tr>\n",
              "    <tr>\n",
              "      <th>8</th>\n",
              "      <td>to</td>\n",
              "      <td>1</td>\n",
              "      <td>5</td>\n",
              "    </tr>\n",
              "    <tr>\n",
              "      <th>9</th>\n",
              "      <td>mountain</td>\n",
              "      <td>1</td>\n",
              "      <td>5</td>\n",
              "    </tr>\n",
              "    <tr>\n",
              "      <th>10</th>\n",
              "      <td>'s</td>\n",
              "      <td>1</td>\n",
              "      <td>5</td>\n",
              "    </tr>\n",
              "    <tr>\n",
              "      <th>11</th>\n",
              "      <td>where</td>\n",
              "      <td>1</td>\n",
              "      <td>5</td>\n",
              "    </tr>\n",
              "    <tr>\n",
              "      <th>12</th>\n",
              "      <td>does</td>\n",
              "      <td>1</td>\n",
              "      <td>5</td>\n",
              "    </tr>\n",
              "    <tr>\n",
              "      <th>13</th>\n",
              "      <td>come</td>\n",
              "      <td>1</td>\n",
              "      <td>5</td>\n",
              "    </tr>\n",
              "    <tr>\n",
              "      <th>14</th>\n",
              "      <td>?</td>\n",
              "      <td>1</td>\n",
              "      <td>5</td>\n",
              "    </tr>\n",
              "    <tr>\n",
              "      <th>15</th>\n",
              "      <td>My</td>\n",
              "      <td>1</td>\n",
              "      <td>5</td>\n",
              "    </tr>\n",
              "    <tr>\n",
              "      <th>16</th>\n",
              "      <td>comes</td>\n",
              "      <td>1</td>\n",
              "      <td>5</td>\n",
              "    </tr>\n",
              "    <tr>\n",
              "      <th>17</th>\n",
              "      <td>Lord</td>\n",
              "      <td>1</td>\n",
              "      <td>5</td>\n",
              "    </tr>\n",
              "    <tr>\n",
              "      <th>18</th>\n",
              "      <td>,</td>\n",
              "      <td>1</td>\n",
              "      <td>5</td>\n",
              "    </tr>\n",
              "    <tr>\n",
              "      <th>19</th>\n",
              "      <td>Maker</td>\n",
              "      <td>1</td>\n",
              "      <td>5</td>\n",
              "    </tr>\n",
              "    <tr>\n",
              "      <th>20</th>\n",
              "      <td>of</td>\n",
              "      <td>1</td>\n",
              "      <td>5</td>\n",
              "    </tr>\n",
              "    <tr>\n",
              "      <th>21</th>\n",
              "      <td>heaven</td>\n",
              "      <td>1</td>\n",
              "      <td>5</td>\n",
              "    </tr>\n",
              "    <tr>\n",
              "      <th>22</th>\n",
              "      <td>and</td>\n",
              "      <td>1</td>\n",
              "      <td>5</td>\n",
              "    </tr>\n",
              "    <tr>\n",
              "      <th>23</th>\n",
              "      <td>earth</td>\n",
              "      <td>1</td>\n",
              "      <td>5</td>\n",
              "    </tr>\n",
              "    <tr>\n",
              "      <th>24</th>\n",
              "      <td>.</td>\n",
              "      <td>1</td>\n",
              "      <td>5</td>\n",
              "    </tr>\n",
              "  </tbody>\n",
              "</table>\n",
              "</div>\n",
              "    <div class=\"colab-df-buttons\">\n",
              "\n",
              "  <div class=\"colab-df-container\">\n",
              "    <button class=\"colab-df-convert\" onclick=\"convertToInteractive('df-e0866b9d-28d9-49b9-8166-f2bf347c4be1')\"\n",
              "            title=\"Convert this dataframe to an interactive table.\"\n",
              "            style=\"display:none;\">\n",
              "\n",
              "  <svg xmlns=\"http://www.w3.org/2000/svg\" height=\"24px\" viewBox=\"0 -960 960 960\">\n",
              "    <path d=\"M120-120v-720h720v720H120Zm60-500h600v-160H180v160Zm220 220h160v-160H400v160Zm0 220h160v-160H400v160ZM180-400h160v-160H180v160Zm440 0h160v-160H620v160ZM180-180h160v-160H180v160Zm440 0h160v-160H620v160Z\"/>\n",
              "  </svg>\n",
              "    </button>\n",
              "\n",
              "  <style>\n",
              "    .colab-df-container {\n",
              "      display:flex;\n",
              "      gap: 12px;\n",
              "    }\n",
              "\n",
              "    .colab-df-convert {\n",
              "      background-color: #E8F0FE;\n",
              "      border: none;\n",
              "      border-radius: 50%;\n",
              "      cursor: pointer;\n",
              "      display: none;\n",
              "      fill: #1967D2;\n",
              "      height: 32px;\n",
              "      padding: 0 0 0 0;\n",
              "      width: 32px;\n",
              "    }\n",
              "\n",
              "    .colab-df-convert:hover {\n",
              "      background-color: #E2EBFA;\n",
              "      box-shadow: 0px 1px 2px rgba(60, 64, 67, 0.3), 0px 1px 3px 1px rgba(60, 64, 67, 0.15);\n",
              "      fill: #174EA6;\n",
              "    }\n",
              "\n",
              "    .colab-df-buttons div {\n",
              "      margin-bottom: 4px;\n",
              "    }\n",
              "\n",
              "    [theme=dark] .colab-df-convert {\n",
              "      background-color: #3B4455;\n",
              "      fill: #D2E3FC;\n",
              "    }\n",
              "\n",
              "    [theme=dark] .colab-df-convert:hover {\n",
              "      background-color: #434B5C;\n",
              "      box-shadow: 0px 1px 3px 1px rgba(0, 0, 0, 0.15);\n",
              "      filter: drop-shadow(0px 1px 2px rgba(0, 0, 0, 0.3));\n",
              "      fill: #FFFFFF;\n",
              "    }\n",
              "  </style>\n",
              "\n",
              "    <script>\n",
              "      const buttonEl =\n",
              "        document.querySelector('#df-e0866b9d-28d9-49b9-8166-f2bf347c4be1 button.colab-df-convert');\n",
              "      buttonEl.style.display =\n",
              "        google.colab.kernel.accessAllowed ? 'block' : 'none';\n",
              "\n",
              "      async function convertToInteractive(key) {\n",
              "        const element = document.querySelector('#df-e0866b9d-28d9-49b9-8166-f2bf347c4be1');\n",
              "        const dataTable =\n",
              "          await google.colab.kernel.invokeFunction('convertToInteractive',\n",
              "                                                    [key], {});\n",
              "        if (!dataTable) return;\n",
              "\n",
              "        const docLinkHtml = 'Like what you see? Visit the ' +\n",
              "          '<a target=\"_blank\" href=https://colab.research.google.com/notebooks/data_table.ipynb>data table notebook</a>'\n",
              "          + ' to learn more about interactive tables.';\n",
              "        element.innerHTML = '';\n",
              "        dataTable['output_type'] = 'display_data';\n",
              "        await google.colab.output.renderOutput(dataTable, element);\n",
              "        const docLink = document.createElement('div');\n",
              "        docLink.innerHTML = docLinkHtml;\n",
              "        element.appendChild(docLink);\n",
              "      }\n",
              "    </script>\n",
              "  </div>\n",
              "\n",
              "\n",
              "<div id=\"df-c67363c9-98b7-4af9-9dec-6be4302badb5\">\n",
              "  <button class=\"colab-df-quickchart\" onclick=\"quickchart('df-c67363c9-98b7-4af9-9dec-6be4302badb5')\"\n",
              "            title=\"Suggest charts\"\n",
              "            style=\"display:none;\">\n",
              "\n",
              "<svg xmlns=\"http://www.w3.org/2000/svg\" height=\"24px\"viewBox=\"0 0 24 24\"\n",
              "     width=\"24px\">\n",
              "    <g>\n",
              "        <path d=\"M19 3H5c-1.1 0-2 .9-2 2v14c0 1.1.9 2 2 2h14c1.1 0 2-.9 2-2V5c0-1.1-.9-2-2-2zM9 17H7v-7h2v7zm4 0h-2V7h2v10zm4 0h-2v-4h2v4z\"/>\n",
              "    </g>\n",
              "</svg>\n",
              "  </button>\n",
              "\n",
              "<style>\n",
              "  .colab-df-quickchart {\n",
              "      --bg-color: #E8F0FE;\n",
              "      --fill-color: #1967D2;\n",
              "      --hover-bg-color: #E2EBFA;\n",
              "      --hover-fill-color: #174EA6;\n",
              "      --disabled-fill-color: #AAA;\n",
              "      --disabled-bg-color: #DDD;\n",
              "  }\n",
              "\n",
              "  [theme=dark] .colab-df-quickchart {\n",
              "      --bg-color: #3B4455;\n",
              "      --fill-color: #D2E3FC;\n",
              "      --hover-bg-color: #434B5C;\n",
              "      --hover-fill-color: #FFFFFF;\n",
              "      --disabled-bg-color: #3B4455;\n",
              "      --disabled-fill-color: #666;\n",
              "  }\n",
              "\n",
              "  .colab-df-quickchart {\n",
              "    background-color: var(--bg-color);\n",
              "    border: none;\n",
              "    border-radius: 50%;\n",
              "    cursor: pointer;\n",
              "    display: none;\n",
              "    fill: var(--fill-color);\n",
              "    height: 32px;\n",
              "    padding: 0;\n",
              "    width: 32px;\n",
              "  }\n",
              "\n",
              "  .colab-df-quickchart:hover {\n",
              "    background-color: var(--hover-bg-color);\n",
              "    box-shadow: 0 1px 2px rgba(60, 64, 67, 0.3), 0 1px 3px 1px rgba(60, 64, 67, 0.15);\n",
              "    fill: var(--button-hover-fill-color);\n",
              "  }\n",
              "\n",
              "  .colab-df-quickchart-complete:disabled,\n",
              "  .colab-df-quickchart-complete:disabled:hover {\n",
              "    background-color: var(--disabled-bg-color);\n",
              "    fill: var(--disabled-fill-color);\n",
              "    box-shadow: none;\n",
              "  }\n",
              "\n",
              "  .colab-df-spinner {\n",
              "    border: 2px solid var(--fill-color);\n",
              "    border-color: transparent;\n",
              "    border-bottom-color: var(--fill-color);\n",
              "    animation:\n",
              "      spin 1s steps(1) infinite;\n",
              "  }\n",
              "\n",
              "  @keyframes spin {\n",
              "    0% {\n",
              "      border-color: transparent;\n",
              "      border-bottom-color: var(--fill-color);\n",
              "      border-left-color: var(--fill-color);\n",
              "    }\n",
              "    20% {\n",
              "      border-color: transparent;\n",
              "      border-left-color: var(--fill-color);\n",
              "      border-top-color: var(--fill-color);\n",
              "    }\n",
              "    30% {\n",
              "      border-color: transparent;\n",
              "      border-left-color: var(--fill-color);\n",
              "      border-top-color: var(--fill-color);\n",
              "      border-right-color: var(--fill-color);\n",
              "    }\n",
              "    40% {\n",
              "      border-color: transparent;\n",
              "      border-right-color: var(--fill-color);\n",
              "      border-top-color: var(--fill-color);\n",
              "    }\n",
              "    60% {\n",
              "      border-color: transparent;\n",
              "      border-right-color: var(--fill-color);\n",
              "    }\n",
              "    80% {\n",
              "      border-color: transparent;\n",
              "      border-right-color: var(--fill-color);\n",
              "      border-bottom-color: var(--fill-color);\n",
              "    }\n",
              "    90% {\n",
              "      border-color: transparent;\n",
              "      border-bottom-color: var(--fill-color);\n",
              "    }\n",
              "  }\n",
              "</style>\n",
              "\n",
              "  <script>\n",
              "    async function quickchart(key) {\n",
              "      const quickchartButtonEl =\n",
              "        document.querySelector('#' + key + ' button');\n",
              "      quickchartButtonEl.disabled = true;  // To prevent multiple clicks.\n",
              "      quickchartButtonEl.classList.add('colab-df-spinner');\n",
              "      try {\n",
              "        const charts = await google.colab.kernel.invokeFunction(\n",
              "            'suggestCharts', [key], {});\n",
              "      } catch (error) {\n",
              "        console.error('Error during call to suggestCharts:', error);\n",
              "      }\n",
              "      quickchartButtonEl.classList.remove('colab-df-spinner');\n",
              "      quickchartButtonEl.classList.add('colab-df-quickchart-complete');\n",
              "    }\n",
              "    (() => {\n",
              "      let quickchartButtonEl =\n",
              "        document.querySelector('#df-c67363c9-98b7-4af9-9dec-6be4302badb5 button');\n",
              "      quickchartButtonEl.style.display =\n",
              "        google.colab.kernel.accessAllowed ? 'block' : 'none';\n",
              "    })();\n",
              "  </script>\n",
              "</div>\n",
              "\n",
              "  <div id=\"id_66c9face-a730-46c1-b3a1-87c7fdb19fbd\">\n",
              "    <style>\n",
              "      .colab-df-generate {\n",
              "        background-color: #E8F0FE;\n",
              "        border: none;\n",
              "        border-radius: 50%;\n",
              "        cursor: pointer;\n",
              "        display: none;\n",
              "        fill: #1967D2;\n",
              "        height: 32px;\n",
              "        padding: 0 0 0 0;\n",
              "        width: 32px;\n",
              "      }\n",
              "\n",
              "      .colab-df-generate:hover {\n",
              "        background-color: #E2EBFA;\n",
              "        box-shadow: 0px 1px 2px rgba(60, 64, 67, 0.3), 0px 1px 3px 1px rgba(60, 64, 67, 0.15);\n",
              "        fill: #174EA6;\n",
              "      }\n",
              "\n",
              "      [theme=dark] .colab-df-generate {\n",
              "        background-color: #3B4455;\n",
              "        fill: #D2E3FC;\n",
              "      }\n",
              "\n",
              "      [theme=dark] .colab-df-generate:hover {\n",
              "        background-color: #434B5C;\n",
              "        box-shadow: 0px 1px 3px 1px rgba(0, 0, 0, 0.15);\n",
              "        filter: drop-shadow(0px 1px 2px rgba(0, 0, 0, 0.3));\n",
              "        fill: #FFFFFF;\n",
              "      }\n",
              "    </style>\n",
              "    <button class=\"colab-df-generate\" onclick=\"generateWithVariable('df')\"\n",
              "            title=\"Generate code using this dataframe.\"\n",
              "            style=\"display:none;\">\n",
              "\n",
              "  <svg xmlns=\"http://www.w3.org/2000/svg\" height=\"24px\"viewBox=\"0 0 24 24\"\n",
              "       width=\"24px\">\n",
              "    <path d=\"M7,19H8.4L18.45,9,17,7.55,7,17.6ZM5,21V16.75L18.45,3.32a2,2,0,0,1,2.83,0l1.4,1.43a1.91,1.91,0,0,1,.58,1.4,1.91,1.91,0,0,1-.58,1.4L9.25,21ZM18.45,9,17,7.55Zm-12,3A5.31,5.31,0,0,0,4.9,8.1,5.31,5.31,0,0,0,1,6.5,5.31,5.31,0,0,0,4.9,4.9,5.31,5.31,0,0,0,6.5,1,5.31,5.31,0,0,0,8.1,4.9,5.31,5.31,0,0,0,12,6.5,5.46,5.46,0,0,0,6.5,12Z\"/>\n",
              "  </svg>\n",
              "    </button>\n",
              "    <script>\n",
              "      (() => {\n",
              "      const buttonEl =\n",
              "        document.querySelector('#id_66c9face-a730-46c1-b3a1-87c7fdb19fbd button.colab-df-generate');\n",
              "      buttonEl.style.display =\n",
              "        google.colab.kernel.accessAllowed ? 'block' : 'none';\n",
              "\n",
              "      buttonEl.onclick = () => {\n",
              "        google.colab.notebook.generateWithVariable('df');\n",
              "      }\n",
              "      })();\n",
              "    </script>\n",
              "  </div>\n",
              "\n",
              "    </div>\n",
              "  </div>\n"
            ],
            "application/vnd.google.colaboratory.intrinsic+json": {
              "type": "dataframe",
              "variable_name": "df",
              "summary": "{\n  \"name\": \"df\",\n  \"rows\": 25,\n  \"fields\": [\n    {\n      \"column\": \"Word\",\n      \"properties\": {\n        \"dtype\": \"string\",\n        \"num_unique_values\": 25,\n        \"samples\": [\n          \"to\",\n          \"comes\",\n          \"the\"\n        ],\n        \"semantic_type\": \"\",\n        \"description\": \"\"\n      }\n    },\n    {\n      \"column\": \"Frequency\",\n      \"properties\": {\n        \"dtype\": \"number\",\n        \"std\": 0,\n        \"min\": 1,\n        \"max\": 3,\n        \"num_unique_values\": 3,\n        \"samples\": [\n          3,\n          2,\n          1\n        ],\n        \"semantic_type\": \"\",\n        \"description\": \"\"\n      }\n    },\n    {\n      \"column\": \"rank\",\n      \"properties\": {\n        \"dtype\": \"number\",\n        \"std\": 1,\n        \"min\": 1,\n        \"max\": 5,\n        \"num_unique_values\": 3,\n        \"samples\": [\n          1,\n          2,\n          5\n        ],\n        \"semantic_type\": \"\",\n        \"description\": \"\"\n      }\n    }\n  ]\n}"
            }
          },
          "metadata": {},
          "execution_count": 106
        }
      ]
    },
    {
      "cell_type": "markdown",
      "source": [
        "Zipf's law: Famously, Zipf's law states that word frequency is inversely proportional to the rank frequency of a word. When visualized, Frequency ~ Rank(Frequency) exhibits a classic power law relationship."
      ],
      "metadata": {
        "id": "bps7zwSBH7L-"
      }
    },
    {
      "cell_type": "code",
      "source": [
        "import matplotlib.pyplot as plt\n",
        "import numpy as np\n",
        "import pandas as pd\n",
        "\n",
        "plt.figure(figsize=(8, 5))\n",
        "plt.loglog(df['rank'], df['Frequency'], marker=\"o\", linestyle=\"-\", label=\"Word Frequencies\")"
      ],
      "metadata": {
        "colab": {
          "base_uri": "https://localhost:8080/",
          "height": 467
        },
        "id": "9WI_SaEOH9Ln",
        "outputId": "63bc63b8-9f50-47ff-9bf0-ec21cad89f4a"
      },
      "execution_count": 93,
      "outputs": [
        {
          "output_type": "execute_result",
          "data": {
            "text/plain": [
              "[<matplotlib.lines.Line2D at 0x7aee470ef0d0>]"
            ]
          },
          "metadata": {},
          "execution_count": 93
        },
        {
          "output_type": "display_data",
          "data": {
            "text/plain": [
              "<Figure size 800x500 with 1 Axes>"
            ],
            "image/png": "[encoded data removed]"
          },
          "metadata": {}
        }
      ]
    },
    {
      "cell_type": "markdown",
      "source": [
        "Remove punctuations"
      ],
      "metadata": {
        "id": "-66rq1rfJE8q"
      }
    },
    {
      "cell_type": "code",
      "source": [
        "#nltk.download(\"punkt\")\n",
        "# word.isalpha() checks if the word contains only letters (A-Z, a-z). This helps us to remove punctuations\n",
        "\n",
        "def remove_punct(token):\n",
        " return [word for word in token if word.isalpha()]\n",
        "\n",
        "sent = remove_punct(sentence_tokens)\n",
        "print(sent)"
      ],
      "metadata": {
        "colab": {
          "base_uri": "https://localhost:8080/"
        },
        "id": "pVMHd9btJOG8",
        "outputId": "5425352b-224b-4d87-85b0-6c66f1f68478"
      },
      "execution_count": 118,
      "outputs": [
        {
          "output_type": "stream",
          "name": "stdout",
          "text": [
            "['I', 'lift', 'up', 'my', 'eyes', 'to', 'the', 'mountain', 'where', 'does', 'my', 'help', 'come', 'from', 'My', 'help', 'comes', 'from', 'the', 'Lord', 'the', 'Maker', 'of', 'heaven', 'and', 'earth']\n"
          ]
        }
      ]
    },
    {
      "cell_type": "markdown",
      "source": [
        "Stemming is the process of reducing the words to their word stem or root form. The objective of stemming is to reduce related words to the same stem even if the stem is not a dictionary word. For example, connection, connected, connecting word reduce to a common word “connect”.\n",
        "\n"
      ],
      "metadata": {
        "id": "s9DdAJH-LeSV"
      }
    },
    {
      "cell_type": "code",
      "source": [
        "from nltk.stem import PorterStemmer\n",
        "ps = PorterStemmer()\n",
        "\n",
        "ps_stem_sent = [ps.stem(words_sent) for words_sent in sent]\n",
        "print(ps_stem_sent)"
      ],
      "metadata": {
        "colab": {
          "base_uri": "https://localhost:8080/"
        },
        "id": "3xOGGlM8Ksuz",
        "outputId": "4dc4c953-0d44-41fb-a294-396116160bf6"
      },
      "execution_count": 119,
      "outputs": [
        {
          "output_type": "stream",
          "name": "stdout",
          "text": [
            "['i', 'lift', 'up', 'my', 'eye', 'to', 'the', 'mountain', 'where', 'doe', 'my', 'help', 'come', 'from', 'my', 'help', 'come', 'from', 'the', 'lord', 'the', 'maker', 'of', 'heaven', 'and', 'earth']\n"
          ]
        }
      ]
    },
    {
      "cell_type": "markdown",
      "source": [
        "Unlike stemming, lemmatization reduces words to their base word, reducing the inflected words properly and ensuring that the root word belongs to the language. It’s usually more sophisticated than stemming, since stemmers works on an individual word without knowledge of the context. In lemmatization, a root word is called lemma. A lemma is the canonical form, dictionary form, or citation form of a set of words."
      ],
      "metadata": {
        "id": "A344l4PpMBVk"
      }
    },
    {
      "cell_type": "code",
      "source": [
        "from nltk.stem.wordnet import WordNetLemmatizer\n",
        "lemmatizer = WordNetLemmatizer()\n",
        "import nltk\n",
        "nltk.download('wordnet')\n",
        "\n",
        "lem_sent = [lemmatizer.lemmatize(words_sent) for words_sent in sent]\n",
        "print(lem_sent)"
      ],
      "metadata": {
        "colab": {
          "base_uri": "https://localhost:8080/"
        },
        "id": "yJYPaOTpMGB0",
        "outputId": "abd56d70-0d3b-4b51-fc20-b7e853f5bd65"
      },
      "execution_count": 120,
      "outputs": [
        {
          "output_type": "stream",
          "name": "stdout",
          "text": [
            "['I', 'lift', 'up', 'my', 'eye', 'to', 'the', 'mountain', 'where', 'doe', 'my', 'help', 'come', 'from', 'My', 'help', 'come', 'from', 'the', 'Lord', 'the', 'Maker', 'of', 'heaven', 'and', 'earth']\n"
          ]
        },
        {
          "output_type": "stream",
          "name": "stderr",
          "text": [
            "[nltk_data] Downloading package wordnet to /root/nltk_data...\n",
            "[nltk_data]   Package wordnet is already up-to-date!\n"
          ]
        }
      ]
    }
  ]
}